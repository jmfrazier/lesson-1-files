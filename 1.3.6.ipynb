{
 "cells": [
  {
   "cell_type": "code",
   "execution_count": 1,
   "metadata": {},
   "outputs": [],
   "source": [
    "import numpy as np\n",
    "import pandas as pd\n",
    "import matplotlib.pyplot as plt\n",
    "import seaborn as sns\n",
    "%matplotlib inline"
   ]
  },
  {
   "cell_type": "markdown",
   "metadata": {},
   "source": [
    "1. determine the five most common journals and the total articles for each. \n",
    "2. Next, calculate the mean, median, and standard deviation of the open-access cost per article for each journal.\n",
    "3. For a real bonus round, identify the open access prices paid by subject area."
   ]
  },
  {
   "cell_type": "code",
   "execution_count": 14,
   "metadata": {},
   "outputs": [],
   "source": [
    "# loading the data set get me the error :UnicodeDecodeError: 'utf-8' codec \n",
    "# can't decode byte 0xa3 in position 103: invalid start byte stackoverflow \n",
    "# says swapping to latin removes the error\n",
    "ds = pd.read_csv(r'C:\\Users\\jmfra\\OneDrive\\Documents\\Thinkful Data Science Files\\1.3.6 data\\welcome.csv', encoding = 'latin')"
   ]
  },
  {
   "cell_type": "code",
   "execution_count": 47,
   "metadata": {},
   "outputs": [],
   "source": [
    "# have to try and replace all the different inputs so that the journal titles\n",
    "# with the same name are all grouped together\n",
    "ds['Journaltitle'] = ds.Journaltitle.str.lower()\n",
    "ds['Journaltitle'] = ds.Journaltitle.str.strip()\n",
    "ds['Journaltitle'] = ds.Journaltitle.str.replace(':.,-','')"
   ]
  },
  {
   "cell_type": "code",
   "execution_count": 51,
   "metadata": {},
   "outputs": [
    {
     "data": {
      "text/plain": [
       "Journaltitle\n",
       "plos one                                                    190\n",
       "journal of biological chemistry                              53\n",
       "neuroimage                                                   29\n",
       "nucleic acids research                                       26\n",
       "plos pathogens                                               24\n",
       "plos genetics                                                24\n",
       "proceedings of the national academy of sciences              22\n",
       "plos neglected tropical diseases                             20\n",
       "nature communications                                        19\n",
       "human molecular genetics                                     19\n",
       "movement disorders                                           15\n",
       "brain                                                        14\n",
       "bmc public health                                            14\n",
       "journal of neuroscience                                      13\n",
       "developmental cell                                           12\n",
       "biochemical journal                                          12\n",
       "journal of general virology                                  11\n",
       "current biology                                              11\n",
       "bmj                                                          10\n",
       "malaria journal                                              10\n",
       "neuron                                                        9\n",
       "journal of virology                                           9\n",
       "development                                                   9\n",
       "plosone                                                       9\n",
       "bmj open                                                      9\n",
       "cell reports                                                  9\n",
       "plos computational biology                                    9\n",
       "journal of structural biology                                 8\n",
       "hepatology                                                    8\n",
       "journal of physiology                                         8\n",
       "                                                           ... \n",
       "journal of acquired immune deficiency syndromes               1\n",
       "journal of abnormal psychology                                1\n",
       "journal od clinical endocrinology                             1\n",
       "journal biological chemistry                                  1\n",
       "jounral of clinical microbiology                              1\n",
       "jnl of the international neuropsychological society           1\n",
       "jerph                                                         1\n",
       "jaids journal of acquired immune deficiency syndromes         1\n",
       "journal of behaviour therapy and experimental psychiatry      1\n",
       "journal of bioenergetics and biomembranes                     1\n",
       "journal of bioethical inquiry                                 1\n",
       "journal of biol chem                                          1\n",
       "journal of cycstic fibrosis                                   1\n",
       "journal of cultural economy                                   1\n",
       "journal of consulting and clinical psychology                 1\n",
       "journal of computational neuroscience                         1\n",
       "journal of comparative neurology                              1\n",
       "journal of cognitive neuroscience                             1\n",
       "journal of clinical virology                                  1\n",
       "journal of clinical pathology                                 1\n",
       "journal of clinical epidemiology                              1\n",
       "journal of clinical endocrinology                             1\n",
       "journal of cheminformatics                                    1\n",
       "journal of chemical information and modeling                  1\n",
       "journal of cellular biochemistry                              1\n",
       "journal of cell physiology                                    1\n",
       "journal of bone and mineral research                          1\n",
       "journal of biomedical graphics and computing                  1\n",
       "journal of biological physics                                 1\n",
       "academy of nutrition and dietetics                            1\n",
       "Name: Article title, Length: 894, dtype: int64"
      ]
     },
     "execution_count": 51,
     "metadata": {},
     "output_type": "execute_result"
    }
   ],
   "source": [
    "journal = ds.groupby('Journaltitle').count()\n",
    "journal['Article title'].sort_values(ascending=False)\n"
   ]
  },
  {
   "cell_type": "code",
   "execution_count": null,
   "metadata": {},
   "outputs": [],
   "source": []
  }
 ],
 "metadata": {
  "kernelspec": {
   "display_name": "Python 3",
   "language": "python",
   "name": "python3"
  },
  "language_info": {
   "codemirror_mode": {
    "name": "ipython",
    "version": 3
   },
   "file_extension": ".py",
   "mimetype": "text/x-python",
   "name": "python",
   "nbconvert_exporter": "python",
   "pygments_lexer": "ipython3",
   "version": "3.6.3"
  }
 },
 "nbformat": 4,
 "nbformat_minor": 2
}
