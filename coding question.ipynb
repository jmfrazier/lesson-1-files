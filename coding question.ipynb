{
 "cells": [
  {
   "cell_type": "code",
   "execution_count": 1,
   "metadata": {},
   "outputs": [],
   "source": [
    "import numpy as np\n",
    "import pandas as pd\n",
    "import matplotlib.pyplot as plt\n",
    "import seaborn as sns\n",
    "import math\n",
    "from matplotlib.mlab import PCA as mlabPCA\n",
    "from sklearn.preprocessing import StandardScaler\n",
    "from sklearn.decomposition import PCA "
   ]
  },
  {
   "cell_type": "code",
   "execution_count": 2,
   "metadata": {},
   "outputs": [],
   "source": [
    "ds = pd.read_csv(r'C:\\Users\\jmfra\\OneDrive\\Documents\\Thinkful Data Science Files\\1.5.1 data\\armenian_pubs.csv')\n",
    "ds = ds.drop('Timestamp', axis=1)\n",
    "ds['Occupation'] = ds.Occupation.str.strip()\n",
    "ds['Fav_Pub'] = ds.Fav_Pub.str.strip()\n",
    "ds['Fav_Pub'] = ds.Fav_Pub.str.lower()\n",
    "ds['Fav_Pub'] = ds.Fav_Pub.str.replace('^the ','')\n",
    "ds['Fav_Pub'] = ds.Fav_Pub.str.replace('i have none','do not have one')\n",
    "ds['Fav_Pub'] = ds.Fav_Pub.str.replace('37 pub','pub 37')\n",
    "ds['Freq'] = ds.Freq.str.replace('Several times in a month','Sometimes')\n",
    "ds['Freq'] = ds.Freq.str.replace('^rarely.+','Rarely')\n",
    "ds['Freq'] = ds.Freq.str.replace('Several times a week','Often')\n",
    "ds['Lifestyle'] = ds.Lifestyle.str.strip()\n",
    "ds['Lifestyle'] = ds.Lifestyle.str.replace('^Adventur.+','Adventurous')\n",
    "ds['Lifestyle'] = ds.Lifestyle.str.replace('^Busy.+','Busy')\n",
    "ds['Lifestyle'] = ds.Lifestyle.str.replace('^Rock.+','Musical')\n",
    "ds['Lifestyle'] = ds.Lifestyle.str.replace('^Business.+','Active')\n",
    "ds['Lifestyle'] = ds.Lifestyle.str.replace('^Sport\\,.+','Active')\n",
    "ds['Lifestyle'] = ds.Lifestyle.str.replace('^Art','Artsy')"
   ]
  },
  {
   "cell_type": "code",
   "execution_count": 3,
   "metadata": {},
   "outputs": [
    {
     "name": "stdout",
     "output_type": "stream",
     "text": [
      "WTS_Interval\n",
      "1    51\n",
      "2    41\n",
      "3    48\n",
      "4     8\n",
      "5    16\n",
      "6     8\n",
      "dtype: int64\n"
     ]
    }
   ],
   "source": [
    "ds['WTS_Interval'] = pd.cut(ds.WTS, \n",
    "                            bins=[-1,2000,4000,6000,8000,10000,1000000], \n",
    "                            labels=[1,2,3,4,5,6])\n",
    "wts_interval = ds.groupby('WTS_Interval').size()\n",
    "print(wts_interval)"
   ]
  },
  {
   "cell_type": "code",
   "execution_count": 5,
   "metadata": {},
   "outputs": [
    {
     "name": "stdout",
     "output_type": "stream",
     "text": [
      "0               1\n",
      "1               1\n",
      "2               2\n",
      "3               2\n",
      "4               5\n",
      "5               1\n",
      "6               1\n",
      "7               1\n",
      "8               5\n",
      "9               2\n",
      "10              2\n",
      "11              1\n",
      "12              1\n",
      "13              3\n",
      "14              1\n",
      "15              3\n",
      "16              1\n",
      "17              4\n",
      "18              3\n",
      "19              1\n",
      "20              4\n",
      "21              5\n",
      "22              1\n",
      "23              2\n",
      "24              1\n",
      "25              1\n",
      "26              1\n",
      "27              3\n",
      "28              2\n",
      "29              6\n",
      "          ...    \n",
      "145             3\n",
      "146             3\n",
      "147             2\n",
      "148             1\n",
      "149             5\n",
      "150             1\n",
      "151             2\n",
      "152             3\n",
      "153             2\n",
      "154   -2147483648\n",
      "155             2\n",
      "156             1\n",
      "157             5\n",
      "158             3\n",
      "159             5\n",
      "160             6\n",
      "161             2\n",
      "162             3\n",
      "163             2\n",
      "164             1\n",
      "165             2\n",
      "166             5\n",
      "167             5\n",
      "168             1\n",
      "169             2\n",
      "170             1\n",
      "171             1\n",
      "172             3\n",
      "173             3\n",
      "174             3\n",
      "Name: WTS_Interval_int, Length: 175, dtype: int32\n"
     ]
    }
   ],
   "source": [
    "ds['WTS_Interval_int'] = ds['WTS_Interval'].astype(int)\n",
    "print(ds['WTS_Interval_int'])"
   ]
  },
  {
   "cell_type": "code",
   "execution_count": null,
   "metadata": {},
   "outputs": [],
   "source": []
  }
 ],
 "metadata": {
  "kernelspec": {
   "display_name": "Python 3",
   "language": "python",
   "name": "python3"
  },
  "language_info": {
   "codemirror_mode": {
    "name": "ipython",
    "version": 3
   },
   "file_extension": ".py",
   "mimetype": "text/x-python",
   "name": "python",
   "nbconvert_exporter": "python",
   "pygments_lexer": "ipython3",
   "version": "3.6.3"
  }
 },
 "nbformat": 4,
 "nbformat_minor": 2
}
