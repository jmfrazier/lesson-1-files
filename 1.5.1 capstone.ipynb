{
 "cells": [
  {
   "cell_type": "code",
   "execution_count": 83,
   "metadata": {},
   "outputs": [],
   "source": [
    "import numpy as np\n",
    "import pandas as pd\n",
    "import matplotlib.pyplot as plt\n",
    "import seaborn as sns\n",
    "%matplotlib inline"
   ]
  },
  {
   "cell_type": "code",
   "execution_count": 84,
   "metadata": {},
   "outputs": [],
   "source": [
    "ds = pd.read_csv(r'C:\\Users\\jmfra\\OneDrive\\Documents\\Thinkful Data Science Files\\1.5.1 data\\armenian_pubs.csv')"
   ]
  },
  {
   "cell_type": "code",
   "execution_count": 85,
   "metadata": {},
   "outputs": [
    {
     "name": "stdout",
     "output_type": "stream",
     "text": [
      "     Age  Gender    Income         Occupation             Fav_Pub      WTS  \\\n",
      "0     19    Male  100000.0            Student             station   2000.0   \n",
      "1     19  Female   50000.0            Student             calumet   2000.0   \n",
      "2     20    Male  100000.0            Student             liberty   3000.0   \n",
      "3     18    Male       0.0            Student             calumet   3000.0   \n",
      "4     19  Female  130000.0  Student + working             liberty  10000.0   \n",
      "5     19    Male   90000.0            Student             station   2000.0   \n",
      "6     18  Female       0.0            Student               irish   1000.0   \n",
      "7     19  Female       0.0            Student             station   2000.0   \n",
      "8     19    Male   80000.0  Student + working   i don't like pubs  10000.0   \n",
      "9     19    Male  150000.0            Student               irish   3000.0   \n",
      "10    20  Female   80000.0            Student   i don't like pubs   3000.0   \n",
      "11    18    Male   90000.0            Student               venue      0.0   \n",
      "12    18  Female       0.0            Student             calumet   2000.0   \n",
      "13    19    Male  200000.0            Working                void   5000.0   \n",
      "14    19    Male  120000.0            Student                 das   2000.0   \n",
      "15    17  Female   30000.0            Student             station   5000.0   \n",
      "16    18    Male       0.0            Student             station   2000.0   \n",
      "17    19  Female   50000.0            Student   i don't like pubs   8000.0   \n",
      "18    17  Female       0.0            Student              pub 37   5000.0   \n",
      "19    19  Female  200000.0  Student + working   i don't like pubs   2000.0   \n",
      "20    17    Male       0.0            Student              pub 37   7000.0   \n",
      "21    19    Male       0.0            Student               venue  10000.0   \n",
      "22    21    Male  130000.0            Student              pub 37   2000.0   \n",
      "23    18    Male  100000.0  Student + working               irish   3000.0   \n",
      "24    18  Female   50000.0            Student          cantaloupe   2000.0   \n",
      "25    18  Female   40000.0            Student               irish   2000.0   \n",
      "26    20  Female  100000.0            Student          cantaloupe   2000.0   \n",
      "27    18  Female   80000.0            Student               irish   5000.0   \n",
      "28    18    Male   25000.0            Student             station   3500.0   \n",
      "29    20    Male   60000.0            Student          cantaloupe  20000.0   \n",
      "..   ...     ...       ...                ...                 ...      ...   \n",
      "145   21  Female   30000.0            Student             station   5000.0   \n",
      "146   21  Female  120000.0  Student + working          cantaloupe   5000.0   \n",
      "147   20    Male   10000.0            Student             fiction   2500.0   \n",
      "148   18  Female       0.0            Student             calumet   2000.0   \n",
      "149   21    Male  100000.0  Student + working               irish  10000.0   \n",
      "150   18  Female   20000.0            Student              pepper   1000.0   \n",
      "151   20    Male  200000.0  Student + working  ulixanyan art club   4000.0   \n",
      "152   20  Female   30000.0            Student              simona   5000.0   \n",
      "153   20    Male   40000.0            Student             station   3000.0   \n",
      "154   20  Female  150000.0            Student   i don't like pubs      NaN   \n",
      "155   19  Female       0.0            Student             liberty   3000.0   \n",
      "156   18  Female  300000.0            Student          speak easy   2000.0   \n",
      "157   18  Female    5000.0            Student               irish  10000.0   \n",
      "158   20    Male   50000.0            Student               irish   5000.0   \n",
      "159   18  Female   35000.0            Student             station  10000.0   \n",
      "160   19  Female       0.0            Student   i don't like pubs  15000.0   \n",
      "161   17    Male       0.0            Student             liberty   3000.0   \n",
      "162   19    Male   30000.0            Student        beer academy   5000.0   \n",
      "163   18  Female   60000.0            Student             station   3000.0   \n",
      "164   18  Female       0.0            Student  ulixanyan art club   1500.0   \n",
      "165   17  Female   20000.0            Student              pepper   3000.0   \n",
      "166   19    Male   40000.0            Student              yankee  10000.0   \n",
      "167   26    Male  190000.0            Working                 NaN  10000.0   \n",
      "168   19  Female   40000.0  Student + working             liberty   2000.0   \n",
      "169   20  Female   70000.0  Student + working             calumet   3000.0   \n",
      "170   19  Female   10000.0            Student             station   2000.0   \n",
      "171   20  Female       0.0            Student             station      0.0   \n",
      "172   20  Female   80000.0  Student + working         tom collins   5000.0   \n",
      "173   19    Male       0.0            Student             fiction   5500.0   \n",
      "174   22  Female  120000.0  Student + working             beatles   5000.0   \n",
      "\n",
      "          Freq     Prim_Imp      Sec_Imp  Stratum    Lifestyle  \\\n",
      "0    Sometimes  Environment         Menu  Capital    Nightlife   \n",
      "1       Rarely        Music      Pricing  Capital  Adventurous   \n",
      "2       Rarely  Environment        Music  Capital         Busy   \n",
      "3    Sometimes  Environment        Music  Capital        Artsy   \n",
      "4       Rarely      Pricing  Environment  Capital          NaN   \n",
      "5        Often  Environment         Menu  Capital  Adventurous   \n",
      "6    Sometimes  Environment        Music  Capital        Artsy   \n",
      "7    Sometimes  Environment      Pricing  Capital         Busy   \n",
      "8       Rarely  Environment        Music  Capital  Adventurous   \n",
      "9    Sometimes  Environment        Music  Capital    Nightlife   \n",
      "10      Rarely  Environment         Menu  Capital        Artsy   \n",
      "11      Rarely  Environment        Music  Capital        Sport   \n",
      "12       Often  Environment        Music  Capital  Adventurous   \n",
      "13   Sometimes  Environment      Pricing  Capital    Nightlife   \n",
      "14   Sometimes  Environment      Pricing    Urban        Artsy   \n",
      "15   Sometimes        Music      Pricing  Capital  Adventurous   \n",
      "16   Sometimes  Environment        Music  Capital        Sport   \n",
      "17      Rarely  Environment        Music    Rural       Active   \n",
      "18      Rarely  Environment      Pricing    Urban        Artsy   \n",
      "19      Rarely  Environment        Music    Urban  Adventurous   \n",
      "20      Rarely  Environment        Music  Capital         Busy   \n",
      "21       Often  Environment        Music  Capital    Nightlife   \n",
      "22      Rarely  Environment      Pricing    Urban        Sport   \n",
      "23   Sometimes  Environment         Menu  Capital          NaN   \n",
      "24      Rarely        Music  Environment  Capital  Adventurous   \n",
      "25   Sometimes         Menu      Pricing  Capital        Artsy   \n",
      "26   Sometimes  Environment         Menu  Capital         Busy   \n",
      "27      Rarely  Environment         Menu  Capital  Adventurous   \n",
      "28      Rarely         Menu        Music    Urban  Adventurous   \n",
      "29      Rarely  Environment        Music  Capital        Artsy   \n",
      "..         ...          ...          ...      ...          ...   \n",
      "145  Sometimes  Environment        Music  Capital         Busy   \n",
      "146     Rarely        Music  Environment  Capital         Busy   \n",
      "147  Sometimes  Environment      Pricing  Capital         Busy   \n",
      "148  Sometimes  Environment        Music  Capital         Busy   \n",
      "149     Rarely  Environment        Music  Capital         Busy   \n",
      "150  Sometimes  Environment      Pricing  Capital         Busy   \n",
      "151      Often  Environment        Music  Capital      Musical   \n",
      "152  Sometimes  Environment      Pricing  Capital         Busy   \n",
      "153     Rarely  Environment      Pricing  Capital         Busy   \n",
      "154     Rarely  Environment        Music  Capital  Adventurous   \n",
      "155  Sometimes        Music         Menu  Capital  Adventurous   \n",
      "156     Rarely        Music  Environment  Capital         Busy   \n",
      "157  Sometimes        Music      Pricing  Capital        Artsy   \n",
      "158     Rarely  Environment         Menu  Capital        Sport   \n",
      "159     Rarely        Music  Environment  Capital         Busy   \n",
      "160     Rarely  Environment        Music  Capital  Adventurous   \n",
      "161     Rarely        Music  Environment  Capital         Busy   \n",
      "162  Sometimes  Environment         Menu  Capital  Adventurous   \n",
      "163     Rarely        Music  Environment    Rural         Busy   \n",
      "164  Sometimes        Music  Environment  Capital         Busy   \n",
      "165     Rarely        Music         Menu    Urban         Busy   \n",
      "166  Sometimes  Environment        Music    Urban         Busy   \n",
      "167  Sometimes        Music  Environment  Capital         Busy   \n",
      "168      Often  Environment        Music  Capital         Busy   \n",
      "169     Rarely  Environment      Pricing  Capital         Busy   \n",
      "170     Rarely  Environment        Music  Capital         Busy   \n",
      "171  Sometimes  Environment        Music  Capital         Busy   \n",
      "172     Rarely  Environment        Music  Capital         Busy   \n",
      "173      Often      Pricing        Music  Capital      Musical   \n",
      "174  Sometimes  Environment        Music  Capital         Busy   \n",
      "\n",
      "                      Occasions  \n",
      "0        Hang outs with friends  \n",
      "1        Hang outs with friends  \n",
      "2        Hang outs with friends  \n",
      "3        Hang outs with friends  \n",
      "4        Hang outs with friends  \n",
      "5        Hang outs with friends  \n",
      "6        Hang outs with friends  \n",
      "7        Hang outs with friends  \n",
      "8        Hang outs with friends  \n",
      "9        Hang outs with friends  \n",
      "10       Special events/parties  \n",
      "11       Hang outs with friends  \n",
      "12       Hang outs with friends  \n",
      "13       Special events/parties  \n",
      "14       Hang outs with friends  \n",
      "15       Hang outs with friends  \n",
      "16       Hang outs with friends  \n",
      "17                    Birthdays  \n",
      "18       Hang outs with friends  \n",
      "19                    Birthdays  \n",
      "20       Hang outs with friends  \n",
      "21       Hang outs with friends  \n",
      "22       Hang outs with friends  \n",
      "23       Hang outs with friends  \n",
      "24       Hang outs with friends  \n",
      "25       Hang outs with friends  \n",
      "26       Hang outs with friends  \n",
      "27       Hang outs with friends  \n",
      "28       Special events/parties  \n",
      "29       Hang outs with friends  \n",
      "..                          ...  \n",
      "145      Hang outs with friends  \n",
      "146      Hang outs with friends  \n",
      "147      Hang outs with friends  \n",
      "148      Hang outs with friends  \n",
      "149      Hang outs with friends  \n",
      "150      Special events/parties  \n",
      "151      Hang outs with friends  \n",
      "152      Hang outs with friends  \n",
      "153      Hang outs with friends  \n",
      "154      Hang outs with friends  \n",
      "155      Hang outs with friends  \n",
      "156  For listening  good music   \n",
      "157                   Birthdays  \n",
      "158      Special events/parties  \n",
      "159      Special events/parties  \n",
      "160                   Birthdays  \n",
      "161      Hang outs with friends  \n",
      "162      Hang outs with friends  \n",
      "163                   Birthdays  \n",
      "164      Hang outs with friends  \n",
      "165      Hang outs with friends  \n",
      "166      Hang outs with friends  \n",
      "167      Hang outs with friends  \n",
      "168      Hang outs with friends  \n",
      "169      Hang outs with friends  \n",
      "170      Hang outs with friends  \n",
      "171      Hang outs with friends  \n",
      "172      Hang outs with friends  \n",
      "173      Hang outs with friends  \n",
      "174      Hang outs with friends  \n",
      "\n",
      "[175 rows x 12 columns]\n"
     ]
    }
   ],
   "source": [
    "#First thing we have to clean the data a little and make it more readable in the open ended categories.\n",
    "#certain answers left questions with open answers so I interpreted them and added them to categories\n",
    "ds = ds.drop('Timestamp', axis=1)\n",
    "ds['Occupation'] = ds.Occupation.str.strip()\n",
    "ds['Fav_Pub'] = ds.Fav_Pub.str.strip()\n",
    "ds['Fav_Pub'] = ds.Fav_Pub.str.lower()\n",
    "ds['Fav_Pub'] = ds.Fav_Pub.str.replace('^the ','')\n",
    "ds['Fav_Pub'] = ds.Fav_Pub.str.replace('i have none','do not have one')\n",
    "ds['Fav_Pub'] = ds.Fav_Pub.str.replace('37 pub','pub 37')\n",
    "ds['Freq'] = ds.Freq.str.replace('Several times in a month','Sometimes')\n",
    "ds['Freq'] = ds.Freq.str.replace('^rarely.+','Rarely')\n",
    "ds['Freq'] = ds.Freq.str.replace('Several times a week','Often')\n",
    "ds['Lifestyle'] = ds.Lifestyle.str.strip()\n",
    "ds['Lifestyle'] = ds.Lifestyle.str.replace('^Adventur.+','Adventurous')\n",
    "ds['Lifestyle'] = ds.Lifestyle.str.replace('^Busy.+','Busy')\n",
    "ds['Lifestyle'] = ds.Lifestyle.str.replace('^Rock.+','Musical')\n",
    "ds['Lifestyle'] = ds.Lifestyle.str.replace('^Business.+','Active')\n",
    "ds['Lifestyle'] = ds.Lifestyle.str.replace('^Sport\\,.+','Active')\n",
    "ds['Lifestyle'] = ds.Lifestyle.str.replace('^Art','Artsy')\n",
    "print(ds)"
   ]
  },
  {
   "cell_type": "markdown",
   "metadata": {},
   "source": [
    "At First Look\n",
    "\n",
    "This data set shows how people in a local town  responded when asked a few questions about their prefereances in bars in a specific local area. Based on the questions asked, it would be easy to extract some demographics of the people in the survey and correlate their answers based on those. If you take a look below at the favorite pub data, you can see that over 50% of the entries favored five out of thirty options. I believe if used correctly this data set could provide some information to help the bar owners in the area improve their bars in a way that speaks to the local demographics in order to drive up foot traffic and potentially sales. "
   ]
  },
  {
   "cell_type": "markdown",
   "metadata": {},
   "source": [
    "RFC Hypothesis\n",
    "\n",
    "If we take data from this set and add a wider range of ages, as well as a higher sample of all ages, we can test for a corrlelation between a lot of the variables and willingness to spend. This could be useful to help bars in this area attract a clientele willing to spend the most amount of money. We would expect willingness to spend to go up as people get older and then hit a peak around middle age and drop back down again. We would expect income to increase directly with willingness to spend. We would expect men to spend more money than women. We would expect people who are working to spend more than students and so on."
   ]
  },
  {
   "cell_type": "code",
   "execution_count": 86,
   "metadata": {
    "scrolled": false
   },
   "outputs": [
    {
     "data": {
      "text/plain": [
       "Text(0,0.5,'Count')"
      ]
     },
     "execution_count": 86,
     "metadata": {},
     "output_type": "execute_result"
    },
    {
     "data": {
      "image/png": "[encoded data removed]",
      "text/plain": [
       "<matplotlib.figure.Figure at 0x604dd10>"
      ]
     },
     "metadata": {},
     "output_type": "display_data"
    }
   ],
   "source": [
    "#we need to seperate the data by column and look at the demographics of the current answers to see how we can improve the survey\n",
    "#in order to use it for the goal/hypothesis\n",
    "age = ds.groupby('Age').size()\n",
    "ageplot = age.plot.bar()\n",
    "ageplot.set_ylabel('Count')"
   ]
  },
  {
   "cell_type": "code",
   "execution_count": 87,
   "metadata": {},
   "outputs": [
    {
     "name": "stdout",
     "output_type": "stream",
     "text": [
      "Gender\n",
      "Female    102\n",
      "Male       73\n",
      "dtype: int64\n"
     ]
    }
   ],
   "source": [
    "#as you can see above, the data is very heavily weighted towards late teen-early 20s \n",
    "gender = ds.groupby('Gender').size()\n",
    "print(gender)"
   ]
  },
  {
   "cell_type": "code",
   "execution_count": 88,
   "metadata": {},
   "outputs": [
    {
     "name": "stdout",
     "output_type": "stream",
     "text": [
      "Income\n",
      "(-0.001, 25000.0]       56\n",
      "(25000.0, 50000.0]      30\n",
      "(50000.0, 75000.0]      18\n",
      "(75000.0, 100000.0]     30\n",
      "(100000.0, 125000.0]     6\n",
      "(125000.0, 150000.0]    10\n",
      "(150000.0, 175000.0]     1\n",
      "(175000.0, 200000.0]    11\n",
      "dtype: int64 Income\n",
      "(200000, 300000]     6\n",
      "(300000, 400000]     2\n",
      "(400000, 500000]     0\n",
      "(500000, 600000]     0\n",
      "(600000, 700000]     1\n",
      "(700000, 800000]     0\n",
      "(800000, 900000]     2\n",
      "(900000, 1000000]    0\n",
      "dtype: int64 Income\n",
      "(1000000, 4500000]    1\n",
      "dtype: int64\n"
     ]
    }
   ],
   "source": [
    "income1 = ds.groupby(pd.cut(ds['Income'], np.arange(0,225000,25000), include_lowest=True)).size()\n",
    "income2 = ds.groupby(pd.cut(ds['Income'], np.arange(200000,1100000,100000))).size()\n",
    "income3 = ds.groupby(pd.cut(ds['Income'], np.arange(1000000,4600000,3500000))).size()\n",
    "print(income1, income2, income3)"
   ]
  },
  {
   "cell_type": "code",
   "execution_count": 89,
   "metadata": {},
   "outputs": [
    {
     "name": "stdout",
     "output_type": "stream",
     "text": [
      "Occupation\n",
      "Student                             122\n",
      "Student + working                    40\n",
      "Working                              10\n",
      "army                                  1\n",
      "Entrepreneur / Software Engineer      1\n",
      "CEO                                   1\n",
      "dtype: int64\n"
     ]
    }
   ],
   "source": [
    "#there are a lot more entries at much lower income brackets but without knowing the overall demographics of the area\n",
    "#it is hard to say if this represents the population well or not\n",
    "occupation = ds.groupby('Occupation').size().sort_values(ascending=False)\n",
    "print(occupation)"
   ]
  },
  {
   "cell_type": "code",
   "execution_count": 90,
   "metadata": {},
   "outputs": [
    {
     "name": "stdout",
     "output_type": "stream",
     "text": [
      "Fav_Pub\n",
      "calumet               27\n",
      "station               26\n",
      "i don't like pubs     16\n",
      "irish                 16\n",
      "pepper                10\n",
      "cantaloupe             9\n",
      "venue                  8\n",
      "liberty                7\n",
      "pub 37                 6\n",
      "tom collins            4\n",
      "bulldog                3\n",
      "das                    3\n",
      "hemingway              3\n",
      "fiction                3\n",
      "bob's                  2\n",
      "do not have one        2\n",
      "ulixanyan art club     2\n",
      "paulaner               2\n",
      "paparazzi              2\n",
      "beatles                2\n",
      "void                   2\n",
      "beer academy           1\n",
      "dargett                1\n",
      "yankee                 1\n",
      "eden                   1\n",
      "kaptyorka              1\n",
      "wild west              1\n",
      "pechenu bagher         1\n",
      "pub 007                1\n",
      "red bull               1\n",
      "simona                 1\n",
      "speak easy             1\n",
      "varonna                1\n",
      "barcode                1\n",
      "dtype: int64\n"
     ]
    }
   ],
   "source": [
    "favorite_pub = ds.groupby('Fav_Pub').size().sort_values(ascending = False)\n",
    "print(favorite_pub)"
   ]
  },
  {
   "cell_type": "code",
   "execution_count": 91,
   "metadata": {
    "scrolled": true
   },
   "outputs": [
    {
     "data": {
      "text/plain": [
       "<matplotlib.axes._subplots.AxesSubplot at 0x3961810>"
      ]
     },
     "execution_count": 91,
     "metadata": {},
     "output_type": "execute_result"
    },
    {
     "data": {
      "image/png": "[encoded data removed]",
      "text/plain": [
       "<matplotlib.figure.Figure at 0x38b5630>"
      ]
     },
     "metadata": {},
     "output_type": "display_data"
    }
   ],
   "source": [
    "#as you can see a lot of the pubs are not very well represented in this study, implying that either the study was weighted towards\n",
    "#certain bars or that those bars are just that much more popular\n",
    "ds=ds.rename(columns = {'WTS':'WTS(thousands)'})\n",
    "ds['WTS(thousands)'] = ds['WTS(thousands)'] / 1000\n",
    "willingness_to_spend = ds.groupby('WTS(thousands)').size()\n",
    "willingness_to_spend.plot.bar()"
   ]
  },
  {
   "cell_type": "code",
   "execution_count": 92,
   "metadata": {},
   "outputs": [
    {
     "name": "stdout",
     "output_type": "stream",
     "text": [
      "Freq\n",
      "Often        20\n",
      "Rarely       94\n",
      "Sometimes    61\n",
      "dtype: int64\n"
     ]
    }
   ],
   "source": [
    "frequency = ds.groupby('Freq').size()\n",
    "print(frequency)"
   ]
  },
  {
   "cell_type": "code",
   "execution_count": 93,
   "metadata": {},
   "outputs": [
    {
     "data": {
      "image/png": "[encoded data removed]",
      "text/plain": [
       "<matplotlib.figure.Figure at 0x14bfc470>"
      ]
     },
     "metadata": {},
     "output_type": "display_data"
    }
   ],
   "source": [
    "#it is not good that over half the responders rarely go to bars at all. Implies the people in this sample do not represent the \n",
    "#population we are trying to target \n",
    "ax = sns.boxplot(x='Age', y='WTS(thousands)', data=ds.reset_index())"
   ]
  },
  {
   "cell_type": "code",
   "execution_count": 94,
   "metadata": {},
   "outputs": [
    {
     "data": {
      "image/png": "[encoded data removed]",
      "text/plain": [
       "<matplotlib.figure.Figure at 0x3a7deb0>"
      ]
     },
     "metadata": {},
     "output_type": "display_data"
    }
   ],
   "source": [
    "ax = sns.boxplot(x='Gender', y='WTS(thousands)', data=ds)"
   ]
  },
  {
   "cell_type": "code",
   "execution_count": 95,
   "metadata": {
    "scrolled": true
   },
   "outputs": [
    {
     "data": {
      "image/png": "[encoded data removed]",
      "text/plain": [
       "<matplotlib.figure.Figure at 0x5f23670>"
      ]
     },
     "metadata": {},
     "output_type": "display_data"
    }
   ],
   "source": [
    "ds['Income(ten_thousands)'] = ds['Income'] / 10000\n",
    "ds = ds.sort_values(by = 'Income', ascending = False)\n",
    "ds = ds.drop(ds.index[0])\n",
    "ax = sns.lmplot(y='WTS(thousands)', x='Income(ten_thousands)', data=ds)"
   ]
  },
  {
   "cell_type": "markdown",
   "metadata": {},
   "source": [
    "Data Summary\n",
    "\n",
    "After a short look at the data entries and some base correlations, we can identify a few issues with the data. First of all, the sample sizes are way too small to get an average read of a downtown area. The largest age block is less than fifty people and a majority of the ages have a sample size of below twenty. Not only that, but there are huge gaps after the age of twenty six which will definitely skew the data because there is no way the demographic of bar going patrons in any area are 98+% under twenty six. In order to make this set useful, we will need to update the study laid out in the experiment section below"
   ]
  },
  {
   "cell_type": "markdown",
   "metadata": {},
   "source": [
    "Business Value\n",
    "\n",
    "As stated earlier, businesses in the area seem to be either missrepresented in this study, or there is a large skew of people going to particular venues. By updating the data, we can use correlations between demographics in order to help the smaller, less popular businesses find out the exact reasons why they are not bringing in as large a crowd as their competitors. At first look, the category WTS, which stands for willingness to sell, is among the most important. Without actually looking at the books of each bar, we can use this metric to estimate how much each bar can make by targeting certain crowds. For example, targeting seventeen year olds might be good to increase the number of people spending time in your bar, but might lower your revenue because this demographic spends a lot less than others. By correlation WTS to all the other categories, bars can see exactly what group of people will increase revenue and what those people are intrerested in."
   ]
  },
  {
   "cell_type": "markdown",
   "metadata": {},
   "source": [
    "RFC Experiment \n",
    "\n",
    "Most of the experiment is identical to what has already been done, except with more trials. Based on the data provided, and the purpose of the test, it is clear more peoplefo all age groups need to be included in order to accurately representthe population. In person representatives could go to bars represented in this study and try to get people to answer the questionnaire in exchange for entry to win some sort of cash prize. They should also be intrusive instea of allowing people to come to them in order to get not only the most respondants, but also to stop any skew in the data because a particular demographic is more outgoing. While people who do not usually go to bars can be useful in some areas, it might also be important to cut out the people who replied that they do not like pubs because they are not the people who the owners are targeting. These people usually do not want to come any way and are unlikely to increase frequency with changes. \n",
    "\n",
    "RFC Success\n",
    "\n",
    "The goal of this increased study size is to help local bars in the area understand the demographics and use this to increase sales or traffic. Success is achieved by pulling data with clear correlations no matter what that actual correlation is. We are even more successful if the data matches our predictions in each category because we can then use logic to explain the correlation and use the information. If the data shows high r-values from t-tests and linear regressions, where necessary, above .05 then we would call this RFC a failure because it is hard to target specific demographics if you are not sure if the correlations are random or by the product of actual correlations."
   ]
  },
  {
   "cell_type": "code",
   "execution_count": null,
   "metadata": {},
   "outputs": [],
   "source": []
  }
 ],
 "metadata": {
  "kernelspec": {
   "display_name": "Python 3",
   "language": "python",
   "name": "python3"
  },
  "language_info": {
   "codemirror_mode": {
    "name": "ipython",
    "version": 3
   },
   "file_extension": ".py",
   "mimetype": "text/x-python",
   "name": "python",
   "nbconvert_exporter": "python",
   "pygments_lexer": "ipython3",
   "version": "3.6.3"
  }
 },
 "nbformat": 4,
 "nbformat_minor": 2
}
